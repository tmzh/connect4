{
  "nbformat": 4,
  "nbformat_minor": 0,
  "metadata": {
    "language_info": {
      "codemirror_mode": {
        "name": "ipython",
        "version": 3
      },
      "file_extension": ".py",
      "mimetype": "text/x-python",
      "name": "python",
      "nbconvert_exporter": "python",
      "pygments_lexer": "ipython3",
      "version": "3.8.5"
    },
    "orig_nbformat": 4,
    "kernelspec": {
      "name": "python3",
      "display_name": "Python 3.8.8  ('.venv': venv)"
    },
    "interpreter": {
      "hash": "bdde83570eb130393ebf4e94b615be2c3064b14427988d87b762b35e9d2fb2a3"
    },
    "colab": {
      "name": "analysis.ipynb",
      "provenance": []
    }
  },
  "cells": [
    {
      "cell_type": "code",
      "metadata": {
        "id": "SP0q5C4tgZh7",
        "outputId": "05efc9fe-a6a5-48d7-958e-20dbd03b1227",
        "colab": {
          "base_uri": "https://localhost:8080/"
        }
      },
      "source": [
        "from google.colab import drive\n",
        "drive.mount('/content/drive')"
      ],
      "execution_count": 1,
      "outputs": [
        {
          "output_type": "stream",
          "text": [
            "Drive already mounted at /content/drive; to attempt to forcibly remount, call drive.mount(\"/content/drive\", force_remount=True).\n"
          ],
          "name": "stdout"
        }
      ]
    },
    {
      "cell_type": "code",
      "metadata": {
        "id": "YOVf0o3bgXka",
        "outputId": "6e7162f4-13c4-4e42-e213-6e0d2cfcb125",
        "colab": {
          "base_uri": "https://localhost:8080/"
        }
      },
      "source": [
        "%cd /content/drive/MyDrive/connect4/connect4/"
      ],
      "execution_count": 2,
      "outputs": [
        {
          "output_type": "stream",
          "text": [
            "/content/drive/MyDrive/connect4/connect4\n"
          ],
          "name": "stdout"
        }
      ]
    },
    {
      "cell_type": "code",
      "metadata": {
        "id": "Z0tRkzxNhVIL",
        "outputId": "59d1d126-b75f-423b-b14d-f0f633a428a9",
        "colab": {
          "base_uri": "https://localhost:8080/"
        }
      },
      "source": [
        "import sys\n",
        "!{sys.executable} -m pip install --upgrade numpy"
      ],
      "execution_count": 54,
      "outputs": [
        {
          "output_type": "stream",
          "text": [
            "Requirement already up-to-date: numpy in /usr/local/lib/python3.7/dist-packages (1.21.0)\n"
          ],
          "name": "stdout"
        }
      ]
    },
    {
      "cell_type": "code",
      "metadata": {
        "id": "Uvw7uwA0wC-7"
      },
      "source": [
        "import numpy as np\n",
        "from scipy import stats\n",
        "import pandas as pd\n",
        "from sklearn.utils import shuffle\n",
        "from collections import Counter"
      ],
      "execution_count": 64,
      "outputs": []
    },
    {
      "cell_type": "code",
      "metadata": {
        "id": "BfFUEVpOm9xL"
      },
      "source": [
        "%matplotlib inline\n",
        "import matplotlib.pyplot as plt\n",
        "plt.style.use('seaborn')"
      ],
      "execution_count": 46,
      "outputs": []
    },
    {
      "cell_type": "code",
      "metadata": {
        "id": "z0loXXyIgXkd"
      },
      "source": [
        "import time\n",
        "\n",
        "from board import Board\n",
        "from player import MiniMaxPlayer, RandomPlayer\n",
        "\n",
        "\n",
        "def play(player, opponent):\n",
        "    player_1, player_2 = shuffle([player, opponent])\n",
        "    board = Board(player_1, player_2)\n",
        "    while not board.game_over:\n",
        "        board.make_move()\n",
        "    if board.winner == player:\n",
        "        return \"won\", board.n_moves\n",
        "    if board.winner == opponent:\n",
        "        return \"lost\", board.n_moves\n",
        "    else:\n",
        "        return \"draw\", board.n_moves\n",
        "\n",
        "\n",
        "def benchmark(player, n_runs=100):\n",
        "    opponent = RandomPlayer(2)\n",
        "    def time_solve():\n",
        "        start = time.time()\n",
        "        result, steps = play(player, opponent)\n",
        "        t = time.time() - start\n",
        "        return t, result, steps\n",
        "    durations, results, steps = zip(*[time_solve() for _ in range(n_runs)])\n",
        "    return durations, results, steps\n",
        "\n",
        "def plot_results(durations, results, steps, name=''):\n",
        "    n_runs = len(steps)\n",
        "    wins = results.count(\"won\")\n",
        "    losses = results.count(\"lost\")\n",
        "    print(\"Won %d out of %d times. Lost %d times (avg %.2f secs (%d Hz), max %.2f secs).\" % (\n",
        "        wins, n_runs, losses, wins / n_runs, n_runs / sum(durations), max(durations)))\n",
        "    steps_desc = stats.describe(steps)\n",
        "    print(\"No. of steps\", steps_desc)\n",
        "    plt.hist(steps, bins=range(40), density=True)\n",
        "    plt.xlabel('Number of Turns to win')\n",
        "    plt.ylabel('Fraction of games')\n",
        "    plt.title(f'Simulated lengths of connect4 games for {name}')\n"
      ],
      "execution_count": 66,
      "outputs": []
    },
    {
      "cell_type": "code",
      "metadata": {
        "id": "mpWy-2WYlHrD"
      },
      "source": [
        "class Benchmark:\n",
        "    def __init__(self, player, name='', n_runs=100):\n",
        "        self.player = player\n",
        "        self.opponent = RandomPlayer(2)\n",
        "        self.n_runs = n_runs\n",
        "        self.name = name\n",
        "\n",
        "    def save(self, result):\n",
        "        result.to_pickle(f'{self.name}.pkl')\n",
        "\n",
        "    def load(self):\n",
        "        return pd.DataFrame.frm_pickle(f'{self.name}.pkl')\n",
        "\n",
        "    def play(self):\n",
        "        player_1, player_2 = shuffle([self.player, self.opponent])\n",
        "        board = Board(player_1, player_2)\n",
        "        while not board.game_over:\n",
        "            board.make_move()\n",
        "        if board.winner == self.player:\n",
        "            return \"won\", board.n_moves\n",
        "        if board.winner == self.opponent:\n",
        "            return \"lost\", board.n_moves\n",
        "        else:\n",
        "            return \"draw\", board.n_moves\n",
        "\n",
        "    def run(self):\n",
        "        def time_solve():\n",
        "            start = time.time()\n",
        "            result, steps = self.play()\n",
        "            t = time.time() - start\n",
        "            return t, result, steps\n",
        "        durations, results, steps = zip(*[time_solve() for _ in range(self.n_runs)])\n",
        "        return pd.DataFrame({'durations': durations, 'results': results, 'steps': steps})\n",
        "    \n",
        "    def plot(self, output):\n",
        "        results = output['results']\n",
        "        durations = output['durations']\n",
        "        steps = output['steps']\n",
        "        wins = output['results'].value_counts()['won']\n",
        "        losses = output['results'].value_counts()['lost']\n",
        "        print(\"Won %d out of %d times. Lost %d times (avg %.2f secs (%d Hz), max %.2f secs).\" % (\n",
        "            wins, self.n_runs, losses, wins / self.n_runs, self.n_runs / sum(durations), max(durations)))\n",
        "        steps_desc = stats.describe(steps)\n",
        "        print(\"No. of steps\", steps_desc)\n",
        "        ax = output.pivot(columns=\"results\", values=\"steps\").plot.hist(bins=range(40))\n",
        "        ax.xlabel('Number of Turns to win')\n",
        "        ax.ylabel('Fraction of games')\n",
        "        ax.title(f'Simulated lengths of connect4 games for {self.name}')"
      ],
      "execution_count": 114,
      "outputs": []
    },
    {
      "cell_type": "markdown",
      "metadata": {
        "id": "TirziNTTjxFv"
      },
      "source": [
        "# Random player"
      ]
    },
    {
      "cell_type": "code",
      "metadata": {
        "id": "1dShTwrwlLoq"
      },
      "source": [
        "random_test = Benchmark(RandomPlayer(1), name='random_10000', n_runs=10000)\n",
        "results = b.run()"
      ],
      "execution_count": 115,
      "outputs": []
    },
    {
      "cell_type": "code",
      "metadata": {
        "id": "Ed34HrKGgXkg",
        "outputId": "5c60a245-3824-4edb-bd61-9cc8d428258d",
        "colab": {
          "base_uri": "https://localhost:8080/",
          "height": 431
        }
      },
      "source": [
        "random_test.plot(results)"
      ],
      "execution_count": 116,
      "outputs": [
        {
          "output_type": "stream",
          "text": [
            "Won 508 out of 10000 times. Lost 484 times (avg 0.05 secs (1950 Hz), max 0.02 secs).\n",
            "No. of steps DescribeResult(nobs=1000, minmax=(7, 35), mean=20.796, variance=41.145529529529526, skewness=-0.01655069894657268, kurtosis=-0.6647332261144809)\n"
          ],
          "name": "stdout"
        },
        {
          "output_type": "display_data",
          "data": {
            "image/png": "[encoded data removed]",
            "text/plain": [
              "<Figure size 576x396 with 1 Axes>"
            ]
          },
          "metadata": {
            "tags": []
          }
        }
      ]
    },
    {
      "cell_type": "code",
      "metadata": {
        "id": "hwUDMba6pjVy"
      },
      "source": [
        "random_test.save(results)"
      ],
      "execution_count": 118,
      "outputs": []
    },
    {
      "cell_type": "markdown",
      "metadata": {
        "id": "XmVS92mnwoof"
      },
      "source": [
        "## MinMax Player"
      ]
    },
    {
      "cell_type": "code",
      "metadata": {
        "id": "bvY5FYBwscNP"
      },
      "source": [
        "minmax = Benchmark(MiniMaxPlayer(1), n_runs=10000)"
      ],
      "execution_count": 119,
      "outputs": []
    },
    {
      "cell_type": "code",
      "metadata": {
        "id": "zvH0GCissjyT"
      },
      "source": [
        "results = minmax.run()"
      ],
      "execution_count": null,
      "outputs": []
    },
    {
      "cell_type": "code",
      "metadata": {
        "id": "jNBWg8u6eOKe",
        "outputId": "a435679c-1cdd-4422-d3bb-9f9672db96a5",
        "colab": {
          "base_uri": "https://localhost:8080/",
          "height": 431
        }
      },
      "source": [
        "plot_results(durations, results, steps)"
      ],
      "execution_count": 75,
      "outputs": [
        {
          "output_type": "stream",
          "text": [
            "Won 952 out of 1000 times. Lost 48 times (avg 0.95 secs (5 Hz), max 0.44 secs).\n",
            "No. of steps DescribeResult(nobs=1000, minmax=(7, 28), mean=11.313, variance=16.005036036036035, skewness=1.1897644582827558, kurtosis=1.5002284091943947)\n"
          ],
          "name": "stdout"
        },
        {
          "output_type": "display_data",
          "data": {
            "image/png": "[encoded data removed]",
            "text/plain": [
              "<Figure size 576x396 with 1 Axes>"
            ]
          },
          "metadata": {
            "tags": []
          }
        }
      ]
    },
    {
      "cell_type": "code",
      "metadata": {
        "id": "9ep7D9_Qxbqu",
        "outputId": "25b31e26-6f0f-4b01-c87e-4a2638a94edc",
        "colab": {
          "base_uri": "https://localhost:8080/",
          "height": 376
        }
      },
      "source": [
        "plt.hist(steps, bins=range(40), density=True)\n",
        "plt.xlabel('Number of Turns to win')\n",
        "plt.ylabel('Fraction of games')\n",
        "plt.title('Simulated Lengths of Connect4 Games');"
      ],
      "execution_count": 29,
      "outputs": [
        {
          "output_type": "display_data",
          "data": {
            "image/png": "[encoded data removed]",
            "text/plain": [
              "<Figure size 576x396 with 1 Axes>"
            ]
          },
          "metadata": {
            "tags": []
          }
        }
      ]
    },
    {
      "cell_type": "code",
      "metadata": {
        "id": "Q4IjLUpIxlwP"
      },
      "source": [
        ""
      ],
      "execution_count": null,
      "outputs": []
    }
  ]
}